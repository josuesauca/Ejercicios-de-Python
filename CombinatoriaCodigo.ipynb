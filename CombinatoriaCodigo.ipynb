{
 "cells": [
  {
   "cell_type": "code",
   "execution_count": 1,
   "metadata": {},
   "outputs": [
    {
     "name": "stdout",
     "output_type": "stream",
     "text": [
      "60.0\n"
     ]
    }
   ],
   "source": [
    "\"\"\"\n",
    "¿Que es la Variacion sin Repeticion?\n",
    "\n",
    "Se llama variaciones ordinarias de m elementos tomados de n en n (m mayor o igual n) a los distintos grupos formados \n",
    "por n elementos de forma que:\n",
    "\n",
    "No entran todos los elementos\n",
    "Sí importa el orden\n",
    "No se repiten los elementos\n",
    "\n",
    "\"\"\"\n",
    "\n",
    "\n",
    "\"\"\"\n",
    "1. ¿Cuántos números de 5 cifras diferentes se puede formar con los dígitos: 1, 2, 3, 4, 5.?\n",
    "\"\"\"\n",
    "\n",
    "\n",
    "#Funcion para calcular el factorial del numero que llega como parametro\n",
    "\n",
    "def factorial_numero(numero):\n",
    "    factorial = 1\n",
    "    for i in range(1,numero+1,1):\n",
    "        factorial = factorial * i\n",
    "    return factorial\n",
    "    \n",
    "\n",
    "#Metodo main encargado de ejecutar el programa\n",
    "if __name__ == \"__main__\":\n",
    "\n",
    "    numero_elementos = 5\n",
    "    numero_agrupaciones = 3\n",
    "    respuesta = 0\n",
    "\n",
    "    respuesta = factorial_numero(numero_elementos) / factorial_numero(numero_elementos - numero_agrupaciones)\n",
    "    print(respuesta)\n"
   ]
  },
  {
   "cell_type": "code",
   "execution_count": 2,
   "metadata": {},
   "outputs": [
    {
     "name": "stdout",
     "output_type": "stream",
     "text": [
      "125\n"
     ]
    }
   ],
   "source": [
    "\"\"\"\n",
    "¿Que es la Variacion con Repeticion?\n",
    "\n",
    "Se llama variaciones con repetición de m elementos tomados de n en n a los distintos grupos formados\n",
    "por n elementos de manera que:\n",
    "\n",
    "No entran todos los elementos si m > n. Sí pueden entrar todos los elementos si m menor igual n\n",
    "Sí importa el orden\n",
    "Sí se repiten los elementos\n",
    "\n",
    "\"\"\"\n",
    "\n",
    "\"\"\"\n",
    " 1. ¿Cuántos números de tres cifras se pueden formar con los dígitos: 1, 2, 3, 4, 5 ?\n",
    "\"\"\"\n",
    "\n",
    "#Funcion para calcular el factorial del numero que llega como parametro\n",
    "\n",
    "def factorial_numero(numero):\n",
    "    factorial = 1\n",
    "    for i in range(1,numero+1,1):\n",
    "        factorial = factorial * i\n",
    "    return factorial\n",
    "    \n",
    "\n",
    "#Metodo main encargado de ejecutar el programa\n",
    "if __name__ == \"__main__\":\n",
    "\n",
    "    numero_elementos = 5\n",
    "    numero_agrupaciones = 3\n",
    "    respuesta = 0\n",
    "\n",
    "    respuesta = pow(numero_elementos,numero_agrupaciones)\n",
    "    print(respuesta)"
   ]
  },
  {
   "cell_type": "code",
   "execution_count": 3,
   "metadata": {},
   "outputs": [
    {
     "name": "stdout",
     "output_type": "stream",
     "text": [
      "120\n"
     ]
    }
   ],
   "source": [
    "\"\"\"\n",
    "¿Que es la Permutacion sin Repeticion?\n",
    "\n",
    " Permutaciones sin repetición o permutaciones ordinarias de n elementos (de orden n) son los distintos\n",
    " grupos de n elementos distintos que se pueden hacer, de forma que dos grupos se diferencian únicamente \n",
    " en el orden de colocación.\n",
    "\n",
    "\"\"\"\n",
    "\n",
    "\"\"\"\n",
    "1. ¿Cuántos números de tres cifras (todas distintas) se pueden formar con los números 1, 2, 3, 4, 5?\n",
    "\"\"\"\n",
    "\n",
    "#Funcion para calcular el factorial del numero que llega como parametro\n",
    "def factorial_numero(numero):\n",
    "    factorial = 1\n",
    "    for i in range(1,numero+1,1):\n",
    "        factorial = factorial * i\n",
    "    return factorial\n",
    "    \n",
    "\n",
    "#Metodo main encargado de ejecutar el programa\n",
    "if __name__ == \"__main__\":\n",
    "\n",
    "    numero_elementos = 5\n",
    "    respuesta = factorial_numero(numero_elementos)\n",
    "    print(respuesta)\n"
   ]
  },
  {
   "cell_type": "code",
   "execution_count": 4,
   "metadata": {},
   "outputs": [
    {
     "name": "stdout",
     "output_type": "stream",
     "text": [
      "1260.0\n"
     ]
    }
   ],
   "source": [
    "\"\"\"\n",
    "¿Que es la Permutacion con Repeticion?\n",
    "\n",
    "Permutaciones con repetición de n elementos donde el primer elemento se repite a veces , \n",
    "el segundo b veces , el tercero c veces,... de tal modo que (n=a+b+c+...), \n",
    "son los distintos grupos que pueden formarse con esos n elementos de forma que :\n",
    "\n",
    "Sí entran todos los elementos\n",
    "Sí importa el orden\n",
    "Sí se repiten los elementos\n",
    "\"\"\"\n",
    "\n",
    "\"\"\"\n",
    "1) Con las cifras 2, 2, 2, 3, 3, 3, 3, 4, 4;\n",
    "¿Cuántos números de nueve cifras se pueden formar?\n",
    "\"\"\"\n",
    "#Funcion para calcular el factorial del numero que llega como parametro\n",
    "def factorial_numero(numero):\n",
    "    factorial = 1\n",
    "    for i in range(1,numero+1,1):\n",
    "        factorial = factorial * i\n",
    "    return factorial\n",
    "    \n",
    "#Metodo main encargado de ejecutar el programa\n",
    "if __name__ == \"__main__\":\n",
    "\n",
    "    numero_elementos = 9\n",
    "    elemento_2 = 3\n",
    "    elemento_3 = 4\n",
    "    elemento_4 = 2\n",
    "    respuesta = 0\n",
    "\n",
    "    denominador = factorial_numero(elemento_2) * factorial_numero(elemento_3) * factorial_numero(elemento_4) \n",
    "    respuesta = factorial_numero(numero_elementos)/denominador\n",
    "    print(respuesta)"
   ]
  },
  {
   "cell_type": "code",
   "execution_count": 5,
   "metadata": {},
   "outputs": [
    {
     "name": "stdout",
     "output_type": "stream",
     "text": [
      "10.0\n"
     ]
    }
   ],
   "source": [
    "\"\"\"\n",
    "¿Que es la Combinacion sin Repeticion?\n",
    "\n",
    "Se llama combinaciones de m elementos tomados de n en n (m mayor igual n) a todas las \n",
    "agrupaciones posibles que pueden hacerse con los m elementos de forma que:\n",
    "\n",
    "No entran todos los elementos\n",
    "No importa el orden\n",
    "No se repiten los elementos\n",
    "\"\"\"\n",
    "\n",
    "\"\"\"\n",
    "1. En una clase de 35 alumnos se quiere elegir un comité formado por tres alumnos.\n",
    "\"\"\"\n",
    "#Funcion para calcular el factorial del numero que llega como parametro\n",
    "def factorial_numero(numero):\n",
    "    factorial = 1\n",
    "    for i in range(1,numero+1,1):\n",
    "        factorial = factorial * i\n",
    "    return factorial\n",
    "    \n",
    "#Metodo main encargado de ejecutar el programa\n",
    "if __name__ == \"__main__\":\n",
    "\n",
    "    numero_total_elementos = 5\n",
    "    numero_agrupaciones = 2\n",
    "    respuesta = 0\n",
    "\n",
    "    denominador = factorial_numero(numero_total_elementos - numero_agrupaciones) * factorial_numero(numero_agrupaciones) \n",
    "    respuesta =   factorial_numero(numero_total_elementos) / denominador\n",
    "    print(respuesta)"
   ]
  },
  {
   "cell_type": "code",
   "execution_count": 6,
   "metadata": {},
   "outputs": [
    {
     "name": "stdout",
     "output_type": "stream",
     "text": [
      "70.0\n"
     ]
    }
   ],
   "source": [
    "\"\"\"\n",
    "¿Que es la Combinacion con Repeticion?\n",
    "\n",
    "Las combinaciones con repetición de m elementos tomados de n en n (m mayor igual n), \n",
    "son los distintos grupos formados por n elementos de manera que:\n",
    "\n",
    "No entran todos los elementos\n",
    "No importa el orden\n",
    "Sí se repiten los elementos\n",
    "\"\"\"\n",
    "\n",
    "\"\"\"\n",
    "1 En una bodega hay cinco tipos diferentes de botellas. ¿De cuántas formas se pueden elegir cuatro botellas?\n",
    "\"\"\"\n",
    "#Funcion para calcular el factorial del numero que llega como parametro\n",
    "def factorial_numero(numero):\n",
    "    factorial = 1\n",
    "    for i in range(1,numero+1,1):\n",
    "        factorial = factorial * i\n",
    "    return factorial\n",
    "    \n",
    "#Metodo main encargado de ejecutar el programa\n",
    "if __name__ == \"__main__\":\n",
    "\n",
    "    numero_total_elementos = 5\n",
    "    numero_agrupaciones = 4\n",
    "    respuesta = 0\n",
    "\n",
    "    denominador = factorial_numero(numero_total_elementos - 1) * factorial_numero(numero_agrupaciones) \n",
    "    respuesta =   factorial_numero(numero_total_elementos + numero_agrupaciones -1) / denominador\n",
    "    print(respuesta)    "
   ]
  },
  {
   "cell_type": "code",
   "execution_count": null,
   "metadata": {},
   "outputs": [],
   "source": []
  }
 ],
 "metadata": {
  "kernelspec": {
   "display_name": "Python 3",
   "language": "python",
   "name": "python3"
  },
  "language_info": {
   "codemirror_mode": {
    "name": "ipython",
    "version": 3
   },
   "file_extension": ".py",
   "mimetype": "text/x-python",
   "name": "python",
   "nbconvert_exporter": "python",
   "pygments_lexer": "ipython3",
   "version": "3.8.3"
  }
 },
 "nbformat": 4,
 "nbformat_minor": 4
}
